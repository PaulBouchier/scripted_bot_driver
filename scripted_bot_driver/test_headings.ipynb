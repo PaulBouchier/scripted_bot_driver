{
 "cells": [
  {
   "cell_type": "markdown",
   "metadata": {},
   "source": [
    "### if anglr isn't in local environment, get a copy from https://github.com/pondersome/anglr because of bugs in the normalized() method available through pip. Otherwise:"
   ]
  },
  {
   "cell_type": "code",
   "execution_count": 3,
   "metadata": {},
   "outputs": [],
   "source": [
    "# %pip install anglr"
   ]
  },
  {
   "cell_type": "code",
   "execution_count": 4,
   "metadata": {},
   "outputs": [
    {
     "name": "stdout",
     "output_type": "stream",
     "text": [
      "1.5707963267948966 rad -6.457718232379019 rad\n",
      "90.0 350.0\n",
      "c: -9.99999999999999\n",
      "99.99999999999999 -99.99999999999999 350.0 350.0\n",
      "True\n",
      "-10.0\n",
      "-9.99999999999999 -10.0\n",
      "True\n"
     ]
    }
   ],
   "source": [
    "from  math import pi, degrees, radians, fmod\n",
    "from scripted_bot_driver.anglr import  Angle\n",
    "\n",
    "a = Angle(radians(90))\n",
    "b = Angle(radians(-370))\n",
    "\n",
    "print(a, b)\n",
    "print(a.normalized().degrees,b.normalized().degrees)\n",
    "c=Angle( fmod(b,2*pi)) #shows fmod() follows c-style modulus convention, preserving negatives in the dividend\n",
    "print('c:', c.degrees)\n",
    "d=c.angle_to(a) #angle_to is always positive and is the shortest distance of the 2 options - always involves normalization\n",
    "e=c-a\n",
    "f=c.normalized()\n",
    "g=f.normalized() # should be same as above - normalizing a second time should have no changes\n",
    "print (d.degrees, e.degrees, f.degrees, g.degrees)\n",
    "print(e==-d)\n",
    "h=Angle(-10, \"degrees\")\n",
    "print(h.degrees)\n",
    "print(c.degrees,h.degrees)\n",
    "print(h==c) #added small tolerance to angle equality checking to handle variations in modulus truncation methods\n",
    "\n"
   ]
  },
  {
   "cell_type": "code",
   "execution_count": null,
   "metadata": {},
   "outputs": [],
   "source": []
  },
  {
   "cell_type": "code",
   "execution_count": 5,
   "metadata": {},
   "outputs": [
    {
     "name": "stdout",
     "output_type": "stream",
     "text": [
      "AngleHunter: shortest_path=False\n",
      "-1.600000 target radians, degrees=-91.673247\n",
      "6.084171 inith  radians, degrees=348.597303\n",
      "6.084171 headn  radians, degrees=348.597303\n",
      "0.000000 delta  radians, degrees=0.000000\n",
      "0.000000 cumul  radians, degrees=0.000000\n",
      "-1.600000 error  radians, degrees=-91.673247\n",
      "\n",
      "AngleHunter: shortest_path=False\n",
      "-1.600000 target radians, degrees=-91.673247\n",
      "6.084171 inith  radians, degrees=348.597303\n",
      "1.000000 headn  radians, degrees=57.295780\n",
      "1.199015 delta  radians, degrees=68.698476\n",
      "1.199015 cumul  radians, degrees=68.698476\n",
      "-2.799015 error  radians, degrees=-160.371724\n",
      "\n",
      "AngleHunter: shortest_path=False\n",
      "-1.600000 target radians, degrees=-91.673247\n",
      "6.084171 inith  radians, degrees=348.597303\n",
      "3.141590 headn  radians, degrees=179.999848\n",
      "2.141590 delta  radians, degrees=122.704068\n",
      "3.340605 cumul  radians, degrees=191.402545\n",
      "-4.940605 error  radians, degrees=-283.075792\n",
      "\n"
     ]
    }
   ],
   "source": [
    "\n",
    "\n",
    "\n",
    "\n",
    "inith=6.084170703087942\n",
    "\n",
    "from  math import pi, degrees, radians, fmod\n",
    "from scripted_bot_driver.AngleHunter import  AngleHunter\n",
    "\n",
    "ah = AngleHunter(-1.6,inith, False)\n",
    "print (repr(ah))\n",
    "ah.update(1)\n",
    "print (repr(ah))\n",
    "ah.update(3.14159)\n",
    "print (repr(ah))"
   ]
  },
  {
   "cell_type": "markdown",
   "metadata": {},
   "source": []
  },
  {
   "cell_type": "code",
   "execution_count": 6,
   "metadata": {},
   "outputs": [
    {
     "name": "stdout",
     "output_type": "stream",
     "text": [
      "AngleHunter: 1.570796 target radians, degrees=90.000000, shortest_path=False))\n",
      "AngleHunter: shortest_path=False\n",
      "1.570796 target radians, degrees=90.000000\n",
      "-3.141593 inith  radians, degrees=-180.000000\n",
      "1.000000 headn  radians, degrees=57.295780\n",
      "-2.141593 delta  radians, degrees=-122.704220\n",
      "-2.141593 cumul  radians, degrees=-122.704220\n",
      "3.712389 error  radians, degrees=212.704220\n",
      "\n",
      "AngleHunter: shortest_path=False\n",
      "1.570796 target radians, degrees=90.000000\n",
      "-3.141593 inith  radians, degrees=-180.000000\n",
      "3.141590 headn  radians, degrees=179.999848\n",
      "2.141590 delta  radians, degrees=122.704068\n",
      "-0.000003 cumul  radians, degrees=-0.000152\n",
      "1.570799 error  radians, degrees=90.000152\n",
      "\n"
     ]
    }
   ],
   "source": [
    "from  math import pi, degrees, radians, fmod\n",
    "from scripted_bot_driver.AngleHunter import  AngleHunter\n",
    "\n",
    "ah = AngleHunter(a.radians, radians(-180.0), False)\n",
    "print (ah)\n",
    "ah.update(1)\n",
    "print (repr(ah))\n",
    "ah.update(3.14159)\n",
    "print (repr(ah))"
   ]
  },
  {
   "cell_type": "code",
   "execution_count": 7,
   "metadata": {},
   "outputs": [
    {
     "name": "stdout",
     "output_type": "stream",
     "text": [
      "4.683185307179587\n"
     ]
    }
   ],
   "source": [
    "def normalize_heading(angle):  # normalize heading to [0, 2pi)\n",
    "    angle = fmod(angle, 2 * pi)\n",
    "    if angle < 0:\n",
    "        angle += 2 * pi\n",
    "    return angle\n",
    "\n",
    "print (normalize_heading(-1.6))\n"
   ]
  },
  {
   "cell_type": "code",
   "execution_count": 8,
   "metadata": {},
   "outputs": [
    {
     "name": "stdout",
     "output_type": "stream",
     "text": [
      "-1.57\n"
     ]
    }
   ],
   "source": [
    "def parse_angle_rad(angle_str):\n",
    "    \"\"\" convert an angle string to a float value in radians. angles ending in 'd' will be converted from degrees\"\"\"\n",
    "    angle_rad = 0 # default return value if an angle isn't provided\n",
    "    if angle_str:\n",
    "        if angle_str[-1] in ['d', 'D']: \n",
    "            angle_rad = radians(float(angle_str[:-1]))\n",
    "        else: \n",
    "            angle_rad = float (angle_str)\n",
    "\n",
    "    return angle_rad\n",
    "\n",
    "print (parse_angle_rad(\"-1.57\"))"
   ]
  },
  {
   "cell_type": "code",
   "execution_count": 9,
   "metadata": {},
   "outputs": [
    {
     "name": "stdout",
     "output_type": "stream",
     "text": [
      "5.366370614359172\n",
      "0.916814692820414\n",
      "5.366370614359172\n",
      "0.916814692820414\n"
     ]
    }
   ],
   "source": [
    "def normalize_heading(angle):  # normalize heading to [0, 2pi)\n",
    "    angle = fmod(angle, 2 * pi)\n",
    "    if angle < 0:\n",
    "        angle += 2 * pi\n",
    "    return angle\n",
    "\n",
    "inith=-6.084170703087942\n",
    "inith= -7.2\n",
    "print(normalize_heading(inith))\n",
    "print(normalize_heading(-inith))\n",
    "print(inith % (2*pi))\n",
    "print(-inith % (2*pi))"
   ]
  },
  {
   "cell_type": "code",
   "execution_count": 17,
   "metadata": {},
   "outputs": [
    {
     "name": "stdout",
     "output_type": "stream",
     "text": [
      "-181.0\n",
      "178.99999999999997\n"
     ]
    }
   ],
   "source": [
    "from scripted_bot_driver.anglr  import  Angle\n",
    "x=-181\n",
    "theta =  Angle(x,'degrees')\n",
    "print (theta.degrees)\n",
    "l  =  (theta.normalized())\n",
    "m = (theta.angle_to(Angle(0)))\n",
    "n = Angle(0).angle_to(l)\n",
    "print (n.degrees)\n",
    "\n"
   ]
  }
 ],
 "metadata": {
  "kernelspec": {
   "display_name": "Python 3",
   "language": "python",
   "name": "python3"
  },
  "language_info": {
   "codemirror_mode": {
    "name": "ipython",
    "version": 3
   },
   "file_extension": ".py",
   "mimetype": "text/x-python",
   "name": "python",
   "nbconvert_exporter": "python",
   "pygments_lexer": "ipython3",
   "version": "3.10.12"
  }
 },
 "nbformat": 4,
 "nbformat_minor": 2
}
